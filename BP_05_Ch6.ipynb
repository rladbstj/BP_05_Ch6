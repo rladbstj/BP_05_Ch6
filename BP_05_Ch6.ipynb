{
  "nbformat": 4,
  "nbformat_minor": 0,
  "metadata": {
    "colab": {
      "provenance": [],
      "authorship_tag": "ABX9TyPLMrDVqxtAEIX+dh2h3pqW",
      "include_colab_link": true
    },
    "kernelspec": {
      "name": "python3",
      "display_name": "Python 3"
    },
    "language_info": {
      "name": "python"
    }
  },
  "cells": [
    {
      "cell_type": "markdown",
      "metadata": {
        "id": "view-in-github",
        "colab_type": "text"
      },
      "source": [
        "<a href=\"https://colab.research.google.com/github/rladbstj/BP_05_Ch6/blob/main/BP_05_Ch6.ipynb\" target=\"_parent\"><img src=\"https://colab.research.google.com/assets/colab-badge.svg\" alt=\"Open In Colab\"/></a>"
      ]
    },
    {
      "cell_type": "markdown",
      "source": [
        "1. 2부터 100사이의 모든 짝수를 출력하는 반복 루프를 작성한다."
      ],
      "metadata": {
        "id": "_ZvrIipdh7S4"
      }
    },
    {
      "cell_type": "code",
      "source": [
        "for i in range(2, 101, 2):\n",
        "    print(i, end=\" \")"
      ],
      "metadata": {
        "colab": {
          "base_uri": "https://localhost:8080/"
        },
        "id": "w-G_cEa0j72u",
        "outputId": "6ccd12e4-56ee-45bc-f2c1-2bfac0ce9b6b"
      },
      "execution_count": 1,
      "outputs": [
        {
          "output_type": "stream",
          "name": "stdout",
          "text": [
            "2 4 6 8 10 12 14 16 18 20 22 24 26 28 30 32 34 36 38 40 42 44 46 48 50 52 54 56 58 60 62 64 66 68 70 72 74 76 78 80 82 84 86 88 90 92 94 96 98 100 "
          ]
        }
      ]
    },
    {
      "cell_type": "markdown",
      "source": [
        "2. 어떤 사람이 복리이자율 7%로 1000만원을 저금했을 경우에 2000만원이 되는데 몇 년이 걸리는지 계산하기 위하여 다음과 코드를 작성하였다. 잘못된 점은 없는지 체크해보자."
      ],
      "metadata": {
        "id": "9QMLwraKh7Vg"
      }
    },
    {
      "cell_type": "code",
      "source": [
        "year = 0\n",
        "balance = 1000\n",
        "while balance >= 2000:   # > 를 <로 수정해야 한다.\n",
        "    year = year + 1\n",
        "    interest = balance * 0.07\n",
        "    balance = balance + interest\n",
        "print(year, \"년이 걸립니다.\")"
      ],
      "metadata": {
        "colab": {
          "base_uri": "https://localhost:8080/"
        },
        "id": "hgZWTsFqj7-9",
        "outputId": "cf5f7cc2-3d1b-4761-ea5d-6d8a3ac91b98"
      },
      "execution_count": 2,
      "outputs": [
        {
          "output_type": "stream",
          "name": "stdout",
          "text": [
            "0 년이 걸립니다.\n"
          ]
        }
      ]
    },
    {
      "cell_type": "markdown",
      "source": [
        "3. 다음 코드의 출력을 예상해보자. 각 단계에서 변수의 값을 예상해보시오."
      ],
      "metadata": {
        "id": "_EJizSwvh7ao"
      }
    },
    {
      "cell_type": "code",
      "source": [
        "n = 1234\n",
        "sum = 0\n",
        "while n > 0:\n",
        "    digit = n %10\n",
        "    sum = sum + digit\n",
        "    n = n // 10\n",
        "print(sum)"
      ],
      "metadata": {
        "colab": {
          "base_uri": "https://localhost:8080/"
        },
        "id": "1ITVbSuIj8B-",
        "outputId": "67a5900d-548f-49eb-902e-f37bfc805653"
      },
      "execution_count": 3,
      "outputs": [
        {
          "output_type": "stream",
          "name": "stdout",
          "text": [
            "10\n"
          ]
        }
      ]
    },
    {
      "cell_type": "markdown",
      "source": [
        "4. 사용자에게 곱셈 퀴즈를 내고 답을 사용자로부터 받는 프로그램에서 사용자가 올바른 답을 입력할 때까지 반복하도록 수정하여 보자."
      ],
      "metadata": {
        "id": "W8sJDpN8h7dg"
      }
    },
    {
      "cell_type": "code",
      "source": [
        "import random as rd\n",
        " \n",
        "while(True):\n",
        "    x = rd.randint(1, 10)\n",
        "    y = rd.randint(1, 10)\n",
        "    cal = int(input(str(x)+\"*\"+str(y)+\"는 \"))\n",
        "    if(cal == (x*y)):\n",
        "        print(\"맞았습니다\", end=\" \")\n",
        "        break;"
      ],
      "metadata": {
        "colab": {
          "base_uri": "https://localhost:8080/"
        },
        "id": "ce0b3Mj_j8JO",
        "outputId": "c17a450d-c334-4d8a-c527-42934e68d5bd"
      },
      "execution_count": 5,
      "outputs": [
        {
          "output_type": "stream",
          "name": "stdout",
          "text": [
            "4*9는 36\n",
            "맞았습니다 "
          ]
        }
      ]
    },
    {
      "cell_type": "markdown",
      "source": [
        "5. 시용자가 입력한 정수의 합을 계산하는 프로그램을 작성하자. 사용자가 0을 입력하기 전까지 정수를 계속하여 읽도록 한다."
      ],
      "metadata": {
        "id": "SLDI_ZdOh7rg"
      }
    },
    {
      "cell_type": "code",
      "source": [
        "sum =0\n",
        "while(True):\n",
        "    cal = int(input(\"정수를 입력하시오 : \"))\n",
        "    if(cal==0):\n",
        "        break;\n",
        "    sum += cal\n",
        "print(\"합은\", sum ,\"입니다.\")"
      ],
      "metadata": {
        "colab": {
          "base_uri": "https://localhost:8080/"
        },
        "id": "wYw0agjxj8Ue",
        "outputId": "1c6d037a-aaa4-4a01-c5fc-946395a71fd7"
      },
      "execution_count": 6,
      "outputs": [
        {
          "output_type": "stream",
          "name": "stdout",
          "text": [
            "정수를 입력하시오 : 1\n",
            "정수를 입력하시오 : 2\n",
            "정수를 입력하시오 : 3\n",
            "정수를 입력하시오 : 0\n",
            "합은 6 입니다.\n"
          ]
        }
      ]
    },
    {
      "cell_type": "markdown",
      "source": [
        "6.난수 생성 함수를 사용하여서 2개의 주사위를 던졌을 때 나오는 수를 다음과 같이 출력하여 보자."
      ],
      "metadata": {
        "id": "EBqACUvbh8BP"
      }
    },
    {
      "cell_type": "code",
      "source": [
        "import random as rd\n",
        " \n",
        "for i in range(3):\n",
        "    x = rd.randint(1, 6)\n",
        "    y = rd.randint(1, 6)\n",
        "    print(\"첫번째 주사위=\",x ,\"두번째 주사위=\",y)\n"
      ],
      "metadata": {
        "colab": {
          "base_uri": "https://localhost:8080/"
        },
        "id": "ZErft5FGj8iu",
        "outputId": "a39b9069-bf4f-482f-8c17-5c19475bc12b"
      },
      "execution_count": 7,
      "outputs": [
        {
          "output_type": "stream",
          "name": "stdout",
          "text": [
            "첫번째 주사위= 5 두번째 주사위= 5\n",
            "첫번째 주사위= 6 두번째 주사위= 2\n",
            "첫번째 주사위= 1 두번째 주사위= 2\n"
          ]
        }
      ]
    },
    {
      "cell_type": "markdown",
      "source": [
        "7. 터틀 그래픽과 반복을 사용하여 눈 모양을 그려보자."
      ],
      "metadata": {
        "id": "CVVYAMSwh8JI"
      }
    },
    {
      "cell_type": "code",
      "source": [
        "import turtle\n",
        "\n",
        "t = turtle.Turtle()\n",
        "t.shape(\"turtle\")\n",
        "t.left(90)\n",
        "\n",
        "for i in range (1,7):\n",
        "    t.forward(100)\n",
        "    t.forward(-30)\n",
        "    t.left(60)\n",
        "    t.forward(30)\n",
        "    t.forward(-30)\n",
        "\n",
        "    t.right(120)\n",
        "    t.forward(30)\n",
        "    t.forward(-30)\n",
        "\n",
        "    t.left(60)\n",
        "    t.forward(-70)\n",
        "    t.left(60)"
      ],
      "metadata": {
        "id": "u-10LgFGj8l2"
      },
      "execution_count": null,
      "outputs": []
    },
    {
      "cell_type": "markdown",
      "source": [
        "8. 우리는 이번 장에서 터틀 그래픽으로 별을 그려보았다. 이 코드를 응용하여서 다음과 같이 10개의 별을 그리는 프로그램을 작성하라. 별들은 시작 각도가 약간씩 다르다."
      ],
      "metadata": {
        "id": "euSMDOgJh8Rh"
      }
    },
    {
      "cell_type": "code",
      "source": [
        "import turtle\n",
        "\n",
        "myPen = turtle.Turtle()\n",
        "myPen.speed(0)\n",
        "myPen.color(\"#FF0000\")\n",
        "\n",
        "for j in range (1,10):\n",
        "  for i in range (1,6):\n",
        "      myPen.left(144)\n",
        "      myPen.forward(200)\n",
        "  myPen.left(10)"
      ],
      "metadata": {
        "id": "eb6r9wQHj8o-"
      },
      "execution_count": null,
      "outputs": []
    },
    {
      "cell_type": "markdown",
      "source": [
        "9. 반복과 난수를 함께 사용하면 화면에 랜덤한 원을 그릴 수 있다. 화면에 10개의 랜덤한 원을 그리는 프로그램을 작성하라. 원의 중심과 반지름이 모두 난수이어야 한다."
      ],
      "metadata": {
        "id": "R1w7fiJqh8aI"
      }
    },
    {
      "cell_type": "code",
      "source": [
        "import turtle\n",
        "import random\n",
        "\n",
        "t = turtle.Turtle()\n",
        "t.shape(\"turtle\")\n",
        "\n",
        "for j in range (1,10):\n",
        "    t.up()\n",
        "    x = random.randint(-200, 200)\n",
        "    y = random.randint(-200, 200)\n",
        "    r = random.randint(10, 200)\n",
        "    t.goto(x, y)\n",
        "    t.down()\n",
        "    t.circle(r)"
      ],
      "metadata": {
        "id": "6ZtFjH7Ej8sO"
      },
      "execution_count": null,
      "outputs": []
    },
    {
      "cell_type": "markdown",
      "source": [
        "10. 다음과 같이 거북이를 왕복 달리기시키는 프로그램을 작성해보자."
      ],
      "metadata": {
        "id": "n7bBdOYMh-mB"
      }
    },
    {
      "cell_type": "code",
      "source": [
        "import turtle\n",
        " \n",
        "t = turtle.Turtle()\n",
        "t.shape(\"turtle\")\n",
        " \n",
        "for i in range(5):\n",
        "    t.fd(200)\n",
        "    t.rt(90)\n",
        "    t.fd(20)\n",
        "    t.rt(90)\n",
        "    t.fd(200)\n",
        "    t.lt(90)\n",
        "    t.fd(20)\n",
        "    t.lt(90)"
      ],
      "metadata": {
        "id": "IkMC_naxj8vh"
      },
      "execution_count": null,
      "outputs": []
    },
    {
      "cell_type": "markdown",
      "source": [
        "11. 다음의 터틀그래픽 프로그램을 분석해보자. 학습하지 않은 함수가 있다면 인터넷에서 조사하여 보자."
      ],
      "metadata": {
        "id": "efC4aflZh-oi"
      }
    },
    {
      "cell_type": "code",
      "source": [
        "import turtle\n",
        " \n",
        "t = turtle.Turtle()\n",
        "t.shape(\"turtle\")\n",
        "t.color(\"red\", \"yellow\")\n",
        "t.begin_fill()\n",
        "while True:\n",
        "    t.forward(200)\n",
        "    t.left(170)\n",
        "    if abs(t.pos())< 1:\n",
        "        break\n",
        "t.end_fill()"
      ],
      "metadata": {
        "id": "Ibel4nFTj83G"
      },
      "execution_count": null,
      "outputs": []
    },
    {
      "cell_type": "markdown",
      "source": [
        "12. 터틀 그래픽과 반복을 사용하여 싸인 그래프를 그려보자. 거북이를 싸인값에 따라서 움직이면 된다."
      ],
      "metadata": {
        "id": "O1JLSmOwh-rK"
      }
    },
    {
      "cell_type": "code",
      "source": [
        "import turtle\n",
        "import math\n",
        " \n",
        "t= turtle.Turtle()\n",
        "t.shape(\"turtle\")\n",
        "t.color('red', 'yellow')\n",
        "\n",
        "for x in range(0, 360):\n",
        "       t.goto(x,200*math.sin(x*3.14/180))"
      ],
      "metadata": {
        "id": "l2XMpm4Vj86G"
      },
      "execution_count": null,
      "outputs": []
    }
  ]
}